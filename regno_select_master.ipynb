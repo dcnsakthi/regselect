{
 "cells": [
  {
   "cell_type": "code",
   "execution_count": 1,
   "metadata": {},
   "outputs": [
    {
     "name": "stdout",
     "output_type": "stream",
     "text": [
      "Numbers with a digit sum of 9 and last two digits >= first two digits \n",
      "from the range of 5000 to 5700:\n",
      "5058\t5157\t5256\t5355\t5454\t5562\t5661\n",
      "5067\t5166\t5265\t5364\t5463\t5571\t5670\n",
      "5076\t5175\t5274\t5373\t5472\t5580\t5679\n",
      "5085\t5184\t5283\t5382\t5481\t5589\t5688\n",
      "5094\t5193\t5292\t5391\t5490\t5598\t5697\n",
      "\t\t\t\t5499\t\t\n",
      "\n"
     ]
    }
   ],
   "source": [
    "# Variable to hold range and sumdigits.\n",
    "start, end = 5000, 5700\n",
    "digit = 9\n",
    "\n",
    "def digit_sum(n):\n",
    "    \"\"\"Calculates the sum of digits of a number repeatedly until a single digit is obtained.\"\"\"\n",
    "    while n >= 10:\n",
    "        n = sum(int(digit) for digit in str(n))\n",
    "    return n\n",
    "\n",
    "def process_numbers(start, end):\n",
    "    \"\"\"Process numbers in the range [start, end] to find those whose digit sum is 9.\"\"\"\n",
    "    result = []\n",
    "    for num in range(start, end + 1):\n",
    "        sum_of_digits = digit_sum(num)\n",
    "        if sum_of_digits == digit:\n",
    "            result.append(num)\n",
    "    return result\n",
    "\n",
    "def highlight_numbers(numbers):\n",
    "    \"\"\"Highlight numbers where last two digits are >= first two digits.\"\"\"\n",
    "    highlighted = []\n",
    "    for num in numbers:\n",
    "        first_two = num // 100  # Extract the first two digits\n",
    "        last_two = num % 100   # Extract the last two digits\n",
    "        if last_two >= first_two:\n",
    "            #highlighted.append(f\"**{num}**\")  # Highlight with '**'\n",
    "            highlighted.append(str(num))\n",
    "        else:\n",
    "            #highlighted.append(str(num))\n",
    "            None\n",
    "    return highlighted\n",
    "\n",
    "# Main execution\n",
    "# start, end = 4250, 5250\n",
    "numbers = process_numbers(start, end)\n",
    "highlighted_numbers = highlight_numbers(numbers)\n",
    "\n",
    "# Initialize a dictionary to hold series\n",
    "series_dict = {}\n",
    "\n",
    "# Separate numbers into series based on the first two digits\n",
    "for num in highlighted_numbers:\n",
    "    prefix = num[:2]\n",
    "    if prefix not in series_dict:\n",
    "        series_dict[prefix] = []\n",
    "    series_dict[prefix].append(num)\n",
    "\n",
    "# Determine the maximum length of the series\n",
    "max_length = max(len(series) for series in series_dict.values())\n",
    "\n",
    "# Pad the shorter series with empty strings to match the length of the longest series\n",
    "for prefix in series_dict:\n",
    "    series_dict[prefix] += [''] * (max_length - len(series_dict[prefix]))\n",
    "\n",
    "# Initialize the formatted string\n",
    "formatted_string = \"\"\n",
    "\n",
    "# Iterate over the numbers and format them into rows and columns\n",
    "for i in range(max_length):\n",
    "    row = [series_dict[prefix][i] for prefix in sorted(series_dict.keys())]\n",
    "    formatted_string += \"\\t\".join(row) + \"\\n\"\n",
    "\n",
    "\n",
    "# Print the table of results\n",
    "print(\"Numbers with a digit sum of \"+ str(digit) +\" and last two digits >= first two digits \\nfrom the range of \" + str(start) + \" to \" + str(end) + \":\")\n",
    "print(formatted_string)"
   ]
  }
 ],
 "metadata": {
  "kernelspec": {
   "display_name": "Python 3",
   "language": "python",
   "name": "python3"
  },
  "language_info": {
   "codemirror_mode": {
    "name": "ipython",
    "version": 3
   },
   "file_extension": ".py",
   "mimetype": "text/x-python",
   "name": "python",
   "nbconvert_exporter": "python",
   "pygments_lexer": "ipython3",
   "version": "3.12.7"
  }
 },
 "nbformat": 4,
 "nbformat_minor": 2
}
